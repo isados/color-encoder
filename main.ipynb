{
 "cells": [
  {
   "cell_type": "code",
   "execution_count": 1,
   "id": "0e44c94b",
   "metadata": {},
   "outputs": [],
   "source": [
    "# Target Values\n",
    "\n",
    "\n"
   ]
  },
  {
   "cell_type": "code",
   "execution_count": 2,
   "id": "d6fd53ba",
   "metadata": {},
   "outputs": [],
   "source": [
    "# Install libraries\n",
    "import numpy as np\n"
   ]
  },
  {
   "cell_type": "code",
   "execution_count": 63,
   "id": "519c8597",
   "metadata": {},
   "outputs": [
    {
     "name": "stdout",
     "output_type": "stream",
     "text": [
      "Original : 0xffff\n",
      "First Byte : 0x0\n",
      "Second Byte : 0xff\n",
      "Third Byte : 0xff\n"
     ]
    },
    {
     "data": {
      "text/plain": [
       "0"
      ]
     },
     "execution_count": 63,
     "metadata": {},
     "output_type": "execute_result"
    }
   ],
   "source": [
    "# Encoder\n",
    "BLUE = 0x0000ff\n",
    "GREEN = 0x00ff00\n",
    "\n",
    "\n",
    "\"\"\"\n",
    "blue has the last two hexadecimal digits as ff\n",
    "while green has the middle ones.\n",
    "so for new colors, we just remove the first first byte, and then we see which ones higher, \n",
    "the green component or blue one.\n",
    "\n",
    "Example : Orange = 0xFFA500\n",
    "1. Strip the first byte: A500\n",
    "2. green component is higher, there it is encoded as green.\n",
    "3. if both are equal, we assign a zero\n",
    "\"\"\"\n",
    "def bg_encoder(color):\n",
    "    \n",
    "    print(\"Original :\", hex(color))\n",
    "    # remove the first byte\n",
    "    first_byte = color >> 16\n",
    "    color = color - (first_byte << 16)\n",
    "    \n",
    "    # check which ones higher: green or blue\n",
    "    green_comp = color >> 8\n",
    "    blue_comp = color - (green_comp << 8)\n",
    "    \n",
    "    print(\"First Byte :\", hex(first_byte))\n",
    "    print(\"Second Byte :\", hex(green_comp))\n",
    "    print(\"Third Byte :\", hex(blue_comp))\n",
    "    \n",
    "    if green_comp > blue_comp:\n",
    "        return +1\n",
    "    elif green_comp < blue_comp:\n",
    "        return -1\n",
    "    else:\n",
    "        return 0\n",
    "    \n",
    "bg_encoder(0x00FFFF)"
   ]
  },
  {
   "cell_type": "code",
   "execution_count": null,
   "id": "98f5ea4e",
   "metadata": {},
   "outputs": [],
   "source": []
  },
  {
   "cell_type": "markdown",
   "id": "431aee50",
   "metadata": {},
   "source": [
    "Now we're going reproduce the same decisions that the encoder is using, in an ML model using \n",
    "supervised learning"
   ]
  },
  {
   "cell_type": "code",
   "execution_count": 50,
   "id": "34f49035",
   "metadata": {},
   "outputs": [
    {
     "name": "stdout",
     "output_type": "stream",
     "text": [
      "Requirement already satisfied: webcolors in /home/isa/.local/lib/python3.8/site-packages (1.11.1)\r\n"
     ]
    }
   ],
   "source": [
    "!pip install webcolors"
   ]
  },
  {
   "cell_type": "code",
   "execution_count": 51,
   "id": "3ea7332a",
   "metadata": {},
   "outputs": [],
   "source": [
    "import webcolors"
   ]
  },
  {
   "cell_type": "code",
   "execution_count": 96,
   "id": "5b5c1506",
   "metadata": {},
   "outputs": [
    {
     "name": "stdout",
     "output_type": "stream",
     "text": [
      "Color Added\n",
      "Color Added\n",
      "Color Added\n",
      "Color Added\n",
      "Color Added\n",
      "Color Added\n",
      "Color Added\n",
      "Color Added\n",
      "Color Added\n",
      "Color Added\n",
      "Color Added\n",
      "Color Added\n",
      "Color Added\n",
      "Color Added\n",
      "Color Added\n",
      "Color Added\n",
      "Color Added\n",
      "Color Added\n",
      "Color Added\n",
      "Color Added\n"
     ]
    },
    {
     "data": {
      "text/plain": [
       "['hotpink',\n",
       " 'mediumseagreen',\n",
       " 'tomato',\n",
       " 'papayawhip',\n",
       " 'oldlace',\n",
       " 'ghostwhite',\n",
       " 'black',\n",
       " 'skyblue',\n",
       " 'khaki',\n",
       " 'lightblue',\n",
       " 'mediumaquamarine',\n",
       " 'peachpuff',\n",
       " 'lavenderblush',\n",
       " 'gray',\n",
       " 'lightpink',\n",
       " 'peru',\n",
       " 'mediumslateblue',\n",
       " 'black',\n",
       " 'slategray',\n",
       " 'lightyellow']"
      ]
     },
     "execution_count": 96,
     "metadata": {},
     "output_type": "execute_result"
    }
   ],
   "source": [
    "color = 'ffa500'\n",
    "import random\n",
    "random.seed(42)\n",
    "\n",
    "DATA_SIZE = 20\n",
    "\n",
    "generated_names = []\n",
    "while(len(generated_names) != DATA_SIZE):\n",
    "    \n",
    "    color = random.randint(0, 255), random.randint(0, 255), random.randint(0, 255)\n",
    "    try:\n",
    "        color_name = webcolors.rgb_to_name(color)\n",
    "        generated_names.append(color_name)\n",
    "        print(\"Color Added\")\n",
    "    except:\n",
    "        pass\n",
    "    \n",
    "\n",
    "generated_names\n",
    "\n",
    "# for rand in range(DATA_SIZE):\n",
    "#     color\n",
    "#     try:\n",
    "#         \n",
    "#     except ValueError:\n",
    "#         print(\"There is no matching name for this color!\")"
   ]
  },
  {
   "cell_type": "code",
   "execution_count": 124,
   "id": "32691410",
   "metadata": {},
   "outputs": [
    {
     "data": {
      "text/plain": [
       "{'hotpink': 16738740,\n",
       " 'mediumseagreen': 3978097,\n",
       " 'tomato': 16737095,\n",
       " 'papayawhip': 16773077,\n",
       " 'oldlace': 16643558,\n",
       " 'ghostwhite': 16316671,\n",
       " 'black': 0,\n",
       " 'skyblue': 8900331,\n",
       " 'khaki': 15787660,\n",
       " 'lightblue': 11393254,\n",
       " 'mediumaquamarine': 6737322,\n",
       " 'peachpuff': 16767673,\n",
       " 'lavenderblush': 16773365,\n",
       " 'gray': 8421504,\n",
       " 'lightpink': 16758465,\n",
       " 'peru': 13468991,\n",
       " 'mediumslateblue': 8087790,\n",
       " 'slategray': 7372944,\n",
       " 'lightyellow': 16777184}"
      ]
     },
     "execution_count": 124,
     "metadata": {},
     "output_type": "execute_result"
    }
   ],
   "source": [
    "color_names = ['hotpink',\n",
    " 'mediumseagreen',\n",
    " 'tomato',\n",
    " 'papayawhip',\n",
    " 'oldlace',\n",
    " 'ghostwhite',\n",
    " 'black',\n",
    " 'skyblue',\n",
    " 'khaki',\n",
    " 'lightblue',\n",
    " 'mediumaquamarine',\n",
    " 'peachpuff',\n",
    " 'lavenderblush',\n",
    " 'gray',\n",
    " 'lightpink',\n",
    " 'peru',\n",
    " 'mediumslateblue',\n",
    " 'black',\n",
    " 'slategray',\n",
    " 'lightyellow']\n",
    "\n",
    "numberer = lambda color : int(webcolors.name_to_hex(color)[1:], 16)\n",
    "color_values = map(numberer, color_names)\n",
    "dict(zip(color_names, color_values))"
   ]
  },
  {
   "cell_type": "code",
   "execution_count": null,
   "id": "e43606a9",
   "metadata": {},
   "outputs": [],
   "source": []
  },
  {
   "cell_type": "code",
   "execution_count": null,
   "id": "b62a5b7b",
   "metadata": {},
   "outputs": [],
   "source": []
  },
  {
   "cell_type": "markdown",
   "id": "b79d77a8",
   "metadata": {},
   "source": [
    "\n",
    "Okay cool, but i mean we can encode each of these colors into red and green, and then we can have ML model learn the inner workings of the encoder. you see what i mean?"
   ]
  },
  {
   "cell_type": "code",
   "execution_count": null,
   "id": "c8ea75fe",
   "metadata": {},
   "outputs": [],
   "source": []
  }
 ],
 "metadata": {
  "kernelspec": {
   "display_name": "Python 3 (ipykernel)",
   "language": "python",
   "name": "python3"
  },
  "language_info": {
   "codemirror_mode": {
    "name": "ipython",
    "version": 3
   },
   "file_extension": ".py",
   "mimetype": "text/x-python",
   "name": "python",
   "nbconvert_exporter": "python",
   "pygments_lexer": "ipython3",
   "version": "3.8.10"
  }
 },
 "nbformat": 4,
 "nbformat_minor": 5
}
